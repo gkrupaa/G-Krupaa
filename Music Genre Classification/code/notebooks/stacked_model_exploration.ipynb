{
 "cells": [
  {
   "cell_type": "code",
   "execution_count": 1,
   "metadata": {},
   "outputs": [],
   "source": [
    "import pandas as pd\n",
    "import numpy as np\n",
    "from sklearn.model_selection import train_test_split\n",
    "from sklearn.ensemble import RandomForestClassifier\n",
    "from sklearn.metrics import classification_report, accuracy_score\n",
    "\n",
    "# Import necessary libraries for each model\n",
    "from sklearn.model_selection import train_test_split\n",
    "from sklearn.metrics import classification_report, accuracy_score\n",
    "from sklearn.model_selection import GridSearchCV\n"
   ]
  },
  {
   "cell_type": "code",
   "execution_count": 2,
   "metadata": {},
   "outputs": [],
   "source": [
    "# Load your data\n",
    "df = pd.read_csv(\"../data/dataset2cleaned.csv\")\n",
    "\n",
    "# Split features and target label\n",
    "X = df.drop(columns=['genre'])  # Features\n",
    "y = df['genre']  # Target (genre label)\n",
    "\n",
    "\n",
    "\n",
    "# Random Forest ------------\n",
    "# Split into training and testing sets\n",
    "X_train, X_test, y_train, y_test = train_test_split(X, y, test_size=0.2, random_state=42)"
   ]
  },
  {
   "cell_type": "code",
   "execution_count": null,
   "metadata": {},
   "outputs": [
    {
     "name": "stdout",
     "output_type": "stream",
     "text": [
      "RF Accuracy: 0.836\n",
      "\n",
      "Stacked Classification Report:\n",
      "               precision    recall  f1-score   support\n",
      "\n",
      "   classical       0.95      0.94      0.94       216\n",
      "     country       0.80      0.76      0.78       190\n",
      "        jazz       0.82      0.87      0.85       192\n",
      "         pop       0.85      0.86      0.85       210\n",
      "        rock       0.75      0.74      0.74       192\n",
      "\n",
      "    accuracy                           0.84      1000\n",
      "   macro avg       0.83      0.83      0.83      1000\n",
      "weighted avg       0.84      0.84      0.84      1000\n",
      "\n"
     ]
    }
   ],
   "source": [
    "from sklearn.ensemble import StackingClassifier\n",
    "from sklearn.linear_model import LogisticRegression\n",
    "from xgboost import XGBClassifier\n",
    "\n",
    "stacked_model = StackingClassifier(\n",
    "    estimators=[\n",
    "        ('rf', RandomForestClassifier(random_state=42, max_depth=20, n_estimators=100, max_features='log2', min_samples_split=2)),\n",
    "        ('xgb', XGBClassifier(eval_metric='mlogloss', random_state=42)),\n",
    "        \n",
    "    ],\n",
    "    final_estimator=LogisticRegression()\n",
    ")\n",
    "stacked_model.fit(X_train, y_train)\n",
    "y_pred = stacked_model.predict(X_test)\n",
    "\n",
    "# Evaluate model\n",
    "print(\"Stacked Accuracy:\", accuracy_score(y_test, y_pred))\n",
    "print(\"\\nStacked Classification Report:\\n\", classification_report(y_test, y_pred))"
   ]
  }
 ],
 "metadata": {
  "kernelspec": {
   "display_name": "venv",
   "language": "python",
   "name": "python3"
  },
  "language_info": {
   "codemirror_mode": {
    "name": "ipython",
    "version": 3
   },
   "file_extension": ".py",
   "mimetype": "text/x-python",
   "name": "python",
   "nbconvert_exporter": "python",
   "pygments_lexer": "ipython3",
   "version": "3.12.3"
  }
 },
 "nbformat": 4,
 "nbformat_minor": 2
}
